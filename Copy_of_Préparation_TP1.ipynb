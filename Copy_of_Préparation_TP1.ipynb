{
  "nbformat": 4,
  "nbformat_minor": 0,
  "metadata": {
    "colab": {
      "provenance": [],
      "include_colab_link": true
    },
    "kernelspec": {
      "name": "python3",
      "display_name": "Python 3"
    },
    "language_info": {
      "name": "python"
    },
    "widgets": {
      "application/vnd.jupyter.widget-state+json": {
        "17f687b4ca5a4ecfbb004b8bddd8a990": {
          "model_module": "@jupyter-widgets/controls",
          "model_name": "HBoxModel",
          "model_module_version": "1.5.0",
          "state": {
            "_dom_classes": [],
            "_model_module": "@jupyter-widgets/controls",
            "_model_module_version": "1.5.0",
            "_model_name": "HBoxModel",
            "_view_count": null,
            "_view_module": "@jupyter-widgets/controls",
            "_view_module_version": "1.5.0",
            "_view_name": "HBoxView",
            "box_style": "",
            "children": [
              "IPY_MODEL_03d39572f0984757a57f101be648abb2",
              "IPY_MODEL_d1358afa68ee4844a2ce1807e643d37a",
              "IPY_MODEL_0c4111e78f604dd494ead8225e9c9723"
            ],
            "layout": "IPY_MODEL_8be7b1e1eded45e5b168e77915abfd78"
          }
        },
        "03d39572f0984757a57f101be648abb2": {
          "model_module": "@jupyter-widgets/controls",
          "model_name": "HTMLModel",
          "model_module_version": "1.5.0",
          "state": {
            "_dom_classes": [],
            "_model_module": "@jupyter-widgets/controls",
            "_model_module_version": "1.5.0",
            "_model_name": "HTMLModel",
            "_view_count": null,
            "_view_module": "@jupyter-widgets/controls",
            "_view_module_version": "1.5.0",
            "_view_name": "HTMLView",
            "description": "",
            "description_tooltip": null,
            "layout": "IPY_MODEL_2d3962599a634af8bf9307f9b9f14a12",
            "placeholder": "​",
            "style": "IPY_MODEL_ddac6189e8764baa9bcc8f68ef929edc",
            "value": "config.json: 100%"
          }
        },
        "d1358afa68ee4844a2ce1807e643d37a": {
          "model_module": "@jupyter-widgets/controls",
          "model_name": "FloatProgressModel",
          "model_module_version": "1.5.0",
          "state": {
            "_dom_classes": [],
            "_model_module": "@jupyter-widgets/controls",
            "_model_module_version": "1.5.0",
            "_model_name": "FloatProgressModel",
            "_view_count": null,
            "_view_module": "@jupyter-widgets/controls",
            "_view_module_version": "1.5.0",
            "_view_name": "ProgressView",
            "bar_style": "success",
            "description": "",
            "description_tooltip": null,
            "layout": "IPY_MODEL_38dc30a55b524d5eb4df062c75d590a3",
            "max": 1585,
            "min": 0,
            "orientation": "horizontal",
            "style": "IPY_MODEL_2bcceefb7d5d4cfaa191336f84a6a47c",
            "value": 1585
          }
        },
        "0c4111e78f604dd494ead8225e9c9723": {
          "model_module": "@jupyter-widgets/controls",
          "model_name": "HTMLModel",
          "model_module_version": "1.5.0",
          "state": {
            "_dom_classes": [],
            "_model_module": "@jupyter-widgets/controls",
            "_model_module_version": "1.5.0",
            "_model_name": "HTMLModel",
            "_view_count": null,
            "_view_module": "@jupyter-widgets/controls",
            "_view_module_version": "1.5.0",
            "_view_name": "HTMLView",
            "description": "",
            "description_tooltip": null,
            "layout": "IPY_MODEL_8feeaf66d3554b0385a11d07f1cbd919",
            "placeholder": "​",
            "style": "IPY_MODEL_704f58af21b84d77aad11520d468dc00",
            "value": " 1.58k/1.58k [00:00&lt;00:00, 31.0kB/s]"
          }
        },
        "8be7b1e1eded45e5b168e77915abfd78": {
          "model_module": "@jupyter-widgets/base",
          "model_name": "LayoutModel",
          "model_module_version": "1.2.0",
          "state": {
            "_model_module": "@jupyter-widgets/base",
            "_model_module_version": "1.2.0",
            "_model_name": "LayoutModel",
            "_view_count": null,
            "_view_module": "@jupyter-widgets/base",
            "_view_module_version": "1.2.0",
            "_view_name": "LayoutView",
            "align_content": null,
            "align_items": null,
            "align_self": null,
            "border": null,
            "bottom": null,
            "display": null,
            "flex": null,
            "flex_flow": null,
            "grid_area": null,
            "grid_auto_columns": null,
            "grid_auto_flow": null,
            "grid_auto_rows": null,
            "grid_column": null,
            "grid_gap": null,
            "grid_row": null,
            "grid_template_areas": null,
            "grid_template_columns": null,
            "grid_template_rows": null,
            "height": null,
            "justify_content": null,
            "justify_items": null,
            "left": null,
            "margin": null,
            "max_height": null,
            "max_width": null,
            "min_height": null,
            "min_width": null,
            "object_fit": null,
            "object_position": null,
            "order": null,
            "overflow": null,
            "overflow_x": null,
            "overflow_y": null,
            "padding": null,
            "right": null,
            "top": null,
            "visibility": null,
            "width": null
          }
        },
        "2d3962599a634af8bf9307f9b9f14a12": {
          "model_module": "@jupyter-widgets/base",
          "model_name": "LayoutModel",
          "model_module_version": "1.2.0",
          "state": {
            "_model_module": "@jupyter-widgets/base",
            "_model_module_version": "1.2.0",
            "_model_name": "LayoutModel",
            "_view_count": null,
            "_view_module": "@jupyter-widgets/base",
            "_view_module_version": "1.2.0",
            "_view_name": "LayoutView",
            "align_content": null,
            "align_items": null,
            "align_self": null,
            "border": null,
            "bottom": null,
            "display": null,
            "flex": null,
            "flex_flow": null,
            "grid_area": null,
            "grid_auto_columns": null,
            "grid_auto_flow": null,
            "grid_auto_rows": null,
            "grid_column": null,
            "grid_gap": null,
            "grid_row": null,
            "grid_template_areas": null,
            "grid_template_columns": null,
            "grid_template_rows": null,
            "height": null,
            "justify_content": null,
            "justify_items": null,
            "left": null,
            "margin": null,
            "max_height": null,
            "max_width": null,
            "min_height": null,
            "min_width": null,
            "object_fit": null,
            "object_position": null,
            "order": null,
            "overflow": null,
            "overflow_x": null,
            "overflow_y": null,
            "padding": null,
            "right": null,
            "top": null,
            "visibility": null,
            "width": null
          }
        },
        "ddac6189e8764baa9bcc8f68ef929edc": {
          "model_module": "@jupyter-widgets/controls",
          "model_name": "DescriptionStyleModel",
          "model_module_version": "1.5.0",
          "state": {
            "_model_module": "@jupyter-widgets/controls",
            "_model_module_version": "1.5.0",
            "_model_name": "DescriptionStyleModel",
            "_view_count": null,
            "_view_module": "@jupyter-widgets/base",
            "_view_module_version": "1.2.0",
            "_view_name": "StyleView",
            "description_width": ""
          }
        },
        "38dc30a55b524d5eb4df062c75d590a3": {
          "model_module": "@jupyter-widgets/base",
          "model_name": "LayoutModel",
          "model_module_version": "1.2.0",
          "state": {
            "_model_module": "@jupyter-widgets/base",
            "_model_module_version": "1.2.0",
            "_model_name": "LayoutModel",
            "_view_count": null,
            "_view_module": "@jupyter-widgets/base",
            "_view_module_version": "1.2.0",
            "_view_name": "LayoutView",
            "align_content": null,
            "align_items": null,
            "align_self": null,
            "border": null,
            "bottom": null,
            "display": null,
            "flex": null,
            "flex_flow": null,
            "grid_area": null,
            "grid_auto_columns": null,
            "grid_auto_flow": null,
            "grid_auto_rows": null,
            "grid_column": null,
            "grid_gap": null,
            "grid_row": null,
            "grid_template_areas": null,
            "grid_template_columns": null,
            "grid_template_rows": null,
            "height": null,
            "justify_content": null,
            "justify_items": null,
            "left": null,
            "margin": null,
            "max_height": null,
            "max_width": null,
            "min_height": null,
            "min_width": null,
            "object_fit": null,
            "object_position": null,
            "order": null,
            "overflow": null,
            "overflow_x": null,
            "overflow_y": null,
            "padding": null,
            "right": null,
            "top": null,
            "visibility": null,
            "width": null
          }
        },
        "2bcceefb7d5d4cfaa191336f84a6a47c": {
          "model_module": "@jupyter-widgets/controls",
          "model_name": "ProgressStyleModel",
          "model_module_version": "1.5.0",
          "state": {
            "_model_module": "@jupyter-widgets/controls",
            "_model_module_version": "1.5.0",
            "_model_name": "ProgressStyleModel",
            "_view_count": null,
            "_view_module": "@jupyter-widgets/base",
            "_view_module_version": "1.2.0",
            "_view_name": "StyleView",
            "bar_color": null,
            "description_width": ""
          }
        },
        "8feeaf66d3554b0385a11d07f1cbd919": {
          "model_module": "@jupyter-widgets/base",
          "model_name": "LayoutModel",
          "model_module_version": "1.2.0",
          "state": {
            "_model_module": "@jupyter-widgets/base",
            "_model_module_version": "1.2.0",
            "_model_name": "LayoutModel",
            "_view_count": null,
            "_view_module": "@jupyter-widgets/base",
            "_view_module_version": "1.2.0",
            "_view_name": "LayoutView",
            "align_content": null,
            "align_items": null,
            "align_self": null,
            "border": null,
            "bottom": null,
            "display": null,
            "flex": null,
            "flex_flow": null,
            "grid_area": null,
            "grid_auto_columns": null,
            "grid_auto_flow": null,
            "grid_auto_rows": null,
            "grid_column": null,
            "grid_gap": null,
            "grid_row": null,
            "grid_template_areas": null,
            "grid_template_columns": null,
            "grid_template_rows": null,
            "height": null,
            "justify_content": null,
            "justify_items": null,
            "left": null,
            "margin": null,
            "max_height": null,
            "max_width": null,
            "min_height": null,
            "min_width": null,
            "object_fit": null,
            "object_position": null,
            "order": null,
            "overflow": null,
            "overflow_x": null,
            "overflow_y": null,
            "padding": null,
            "right": null,
            "top": null,
            "visibility": null,
            "width": null
          }
        },
        "704f58af21b84d77aad11520d468dc00": {
          "model_module": "@jupyter-widgets/controls",
          "model_name": "DescriptionStyleModel",
          "model_module_version": "1.5.0",
          "state": {
            "_model_module": "@jupyter-widgets/controls",
            "_model_module_version": "1.5.0",
            "_model_name": "DescriptionStyleModel",
            "_view_count": null,
            "_view_module": "@jupyter-widgets/base",
            "_view_module_version": "1.2.0",
            "_view_name": "StyleView",
            "description_width": ""
          }
        },
        "8feb232766094aec84f9647ab62a9ebb": {
          "model_module": "@jupyter-widgets/controls",
          "model_name": "HBoxModel",
          "model_module_version": "1.5.0",
          "state": {
            "_dom_classes": [],
            "_model_module": "@jupyter-widgets/controls",
            "_model_module_version": "1.5.0",
            "_model_name": "HBoxModel",
            "_view_count": null,
            "_view_module": "@jupyter-widgets/controls",
            "_view_module_version": "1.5.0",
            "_view_name": "HBoxView",
            "box_style": "",
            "children": [
              "IPY_MODEL_a2d49d5756d84730ac6358997e46ecc5",
              "IPY_MODEL_171f36bcef22490b9b36c49ca98f457f",
              "IPY_MODEL_a5f5dcb8596e4fe6a9c61574fa77a7d5"
            ],
            "layout": "IPY_MODEL_3dd5ab3373934fa6b5c40ec9d706c2f1"
          }
        },
        "a2d49d5756d84730ac6358997e46ecc5": {
          "model_module": "@jupyter-widgets/controls",
          "model_name": "HTMLModel",
          "model_module_version": "1.5.0",
          "state": {
            "_dom_classes": [],
            "_model_module": "@jupyter-widgets/controls",
            "_model_module_version": "1.5.0",
            "_model_name": "HTMLModel",
            "_view_count": null,
            "_view_module": "@jupyter-widgets/controls",
            "_view_module_version": "1.5.0",
            "_view_name": "HTMLView",
            "description": "",
            "description_tooltip": null,
            "layout": "IPY_MODEL_bf6d5fedd0bf4171b6ce01baa62f3c3c",
            "placeholder": "​",
            "style": "IPY_MODEL_a800eb8ac8ec40539831e407e402fbb7",
            "value": "vocab.json: 100%"
          }
        },
        "171f36bcef22490b9b36c49ca98f457f": {
          "model_module": "@jupyter-widgets/controls",
          "model_name": "FloatProgressModel",
          "model_module_version": "1.5.0",
          "state": {
            "_dom_classes": [],
            "_model_module": "@jupyter-widgets/controls",
            "_model_module_version": "1.5.0",
            "_model_name": "FloatProgressModel",
            "_view_count": null,
            "_view_module": "@jupyter-widgets/controls",
            "_view_module_version": "1.5.0",
            "_view_name": "ProgressView",
            "bar_style": "success",
            "description": "",
            "description_tooltip": null,
            "layout": "IPY_MODEL_db02d56de6584a7db342f5f7901e6820",
            "max": 898823,
            "min": 0,
            "orientation": "horizontal",
            "style": "IPY_MODEL_12683416687c4cf89669466b4c9a0024",
            "value": 898823
          }
        },
        "a5f5dcb8596e4fe6a9c61574fa77a7d5": {
          "model_module": "@jupyter-widgets/controls",
          "model_name": "HTMLModel",
          "model_module_version": "1.5.0",
          "state": {
            "_dom_classes": [],
            "_model_module": "@jupyter-widgets/controls",
            "_model_module_version": "1.5.0",
            "_model_name": "HTMLModel",
            "_view_count": null,
            "_view_module": "@jupyter-widgets/controls",
            "_view_module_version": "1.5.0",
            "_view_name": "HTMLView",
            "description": "",
            "description_tooltip": null,
            "layout": "IPY_MODEL_7b7ee1dfb72d4709bd9d08b373e7c617",
            "placeholder": "​",
            "style": "IPY_MODEL_be08e60b7bde4affb21c309a0fb7fd42",
            "value": " 899k/899k [00:00&lt;00:00, 1.67MB/s]"
          }
        },
        "3dd5ab3373934fa6b5c40ec9d706c2f1": {
          "model_module": "@jupyter-widgets/base",
          "model_name": "LayoutModel",
          "model_module_version": "1.2.0",
          "state": {
            "_model_module": "@jupyter-widgets/base",
            "_model_module_version": "1.2.0",
            "_model_name": "LayoutModel",
            "_view_count": null,
            "_view_module": "@jupyter-widgets/base",
            "_view_module_version": "1.2.0",
            "_view_name": "LayoutView",
            "align_content": null,
            "align_items": null,
            "align_self": null,
            "border": null,
            "bottom": null,
            "display": null,
            "flex": null,
            "flex_flow": null,
            "grid_area": null,
            "grid_auto_columns": null,
            "grid_auto_flow": null,
            "grid_auto_rows": null,
            "grid_column": null,
            "grid_gap": null,
            "grid_row": null,
            "grid_template_areas": null,
            "grid_template_columns": null,
            "grid_template_rows": null,
            "height": null,
            "justify_content": null,
            "justify_items": null,
            "left": null,
            "margin": null,
            "max_height": null,
            "max_width": null,
            "min_height": null,
            "min_width": null,
            "object_fit": null,
            "object_position": null,
            "order": null,
            "overflow": null,
            "overflow_x": null,
            "overflow_y": null,
            "padding": null,
            "right": null,
            "top": null,
            "visibility": null,
            "width": null
          }
        },
        "bf6d5fedd0bf4171b6ce01baa62f3c3c": {
          "model_module": "@jupyter-widgets/base",
          "model_name": "LayoutModel",
          "model_module_version": "1.2.0",
          "state": {
            "_model_module": "@jupyter-widgets/base",
            "_model_module_version": "1.2.0",
            "_model_name": "LayoutModel",
            "_view_count": null,
            "_view_module": "@jupyter-widgets/base",
            "_view_module_version": "1.2.0",
            "_view_name": "LayoutView",
            "align_content": null,
            "align_items": null,
            "align_self": null,
            "border": null,
            "bottom": null,
            "display": null,
            "flex": null,
            "flex_flow": null,
            "grid_area": null,
            "grid_auto_columns": null,
            "grid_auto_flow": null,
            "grid_auto_rows": null,
            "grid_column": null,
            "grid_gap": null,
            "grid_row": null,
            "grid_template_areas": null,
            "grid_template_columns": null,
            "grid_template_rows": null,
            "height": null,
            "justify_content": null,
            "justify_items": null,
            "left": null,
            "margin": null,
            "max_height": null,
            "max_width": null,
            "min_height": null,
            "min_width": null,
            "object_fit": null,
            "object_position": null,
            "order": null,
            "overflow": null,
            "overflow_x": null,
            "overflow_y": null,
            "padding": null,
            "right": null,
            "top": null,
            "visibility": null,
            "width": null
          }
        },
        "a800eb8ac8ec40539831e407e402fbb7": {
          "model_module": "@jupyter-widgets/controls",
          "model_name": "DescriptionStyleModel",
          "model_module_version": "1.5.0",
          "state": {
            "_model_module": "@jupyter-widgets/controls",
            "_model_module_version": "1.5.0",
            "_model_name": "DescriptionStyleModel",
            "_view_count": null,
            "_view_module": "@jupyter-widgets/base",
            "_view_module_version": "1.2.0",
            "_view_name": "StyleView",
            "description_width": ""
          }
        },
        "db02d56de6584a7db342f5f7901e6820": {
          "model_module": "@jupyter-widgets/base",
          "model_name": "LayoutModel",
          "model_module_version": "1.2.0",
          "state": {
            "_model_module": "@jupyter-widgets/base",
            "_model_module_version": "1.2.0",
            "_model_name": "LayoutModel",
            "_view_count": null,
            "_view_module": "@jupyter-widgets/base",
            "_view_module_version": "1.2.0",
            "_view_name": "LayoutView",
            "align_content": null,
            "align_items": null,
            "align_self": null,
            "border": null,
            "bottom": null,
            "display": null,
            "flex": null,
            "flex_flow": null,
            "grid_area": null,
            "grid_auto_columns": null,
            "grid_auto_flow": null,
            "grid_auto_rows": null,
            "grid_column": null,
            "grid_gap": null,
            "grid_row": null,
            "grid_template_areas": null,
            "grid_template_columns": null,
            "grid_template_rows": null,
            "height": null,
            "justify_content": null,
            "justify_items": null,
            "left": null,
            "margin": null,
            "max_height": null,
            "max_width": null,
            "min_height": null,
            "min_width": null,
            "object_fit": null,
            "object_position": null,
            "order": null,
            "overflow": null,
            "overflow_x": null,
            "overflow_y": null,
            "padding": null,
            "right": null,
            "top": null,
            "visibility": null,
            "width": null
          }
        },
        "12683416687c4cf89669466b4c9a0024": {
          "model_module": "@jupyter-widgets/controls",
          "model_name": "ProgressStyleModel",
          "model_module_version": "1.5.0",
          "state": {
            "_model_module": "@jupyter-widgets/controls",
            "_model_module_version": "1.5.0",
            "_model_name": "ProgressStyleModel",
            "_view_count": null,
            "_view_module": "@jupyter-widgets/base",
            "_view_module_version": "1.2.0",
            "_view_name": "StyleView",
            "bar_color": null,
            "description_width": ""
          }
        },
        "7b7ee1dfb72d4709bd9d08b373e7c617": {
          "model_module": "@jupyter-widgets/base",
          "model_name": "LayoutModel",
          "model_module_version": "1.2.0",
          "state": {
            "_model_module": "@jupyter-widgets/base",
            "_model_module_version": "1.2.0",
            "_model_name": "LayoutModel",
            "_view_count": null,
            "_view_module": "@jupyter-widgets/base",
            "_view_module_version": "1.2.0",
            "_view_name": "LayoutView",
            "align_content": null,
            "align_items": null,
            "align_self": null,
            "border": null,
            "bottom": null,
            "display": null,
            "flex": null,
            "flex_flow": null,
            "grid_area": null,
            "grid_auto_columns": null,
            "grid_auto_flow": null,
            "grid_auto_rows": null,
            "grid_column": null,
            "grid_gap": null,
            "grid_row": null,
            "grid_template_areas": null,
            "grid_template_columns": null,
            "grid_template_rows": null,
            "height": null,
            "justify_content": null,
            "justify_items": null,
            "left": null,
            "margin": null,
            "max_height": null,
            "max_width": null,
            "min_height": null,
            "min_width": null,
            "object_fit": null,
            "object_position": null,
            "order": null,
            "overflow": null,
            "overflow_x": null,
            "overflow_y": null,
            "padding": null,
            "right": null,
            "top": null,
            "visibility": null,
            "width": null
          }
        },
        "be08e60b7bde4affb21c309a0fb7fd42": {
          "model_module": "@jupyter-widgets/controls",
          "model_name": "DescriptionStyleModel",
          "model_module_version": "1.5.0",
          "state": {
            "_model_module": "@jupyter-widgets/controls",
            "_model_module_version": "1.5.0",
            "_model_name": "DescriptionStyleModel",
            "_view_count": null,
            "_view_module": "@jupyter-widgets/base",
            "_view_module_version": "1.2.0",
            "_view_name": "StyleView",
            "description_width": ""
          }
        },
        "978fb3e7a8a94f09a4753f4aa714196e": {
          "model_module": "@jupyter-widgets/controls",
          "model_name": "HBoxModel",
          "model_module_version": "1.5.0",
          "state": {
            "_dom_classes": [],
            "_model_module": "@jupyter-widgets/controls",
            "_model_module_version": "1.5.0",
            "_model_name": "HBoxModel",
            "_view_count": null,
            "_view_module": "@jupyter-widgets/controls",
            "_view_module_version": "1.5.0",
            "_view_name": "HBoxView",
            "box_style": "",
            "children": [
              "IPY_MODEL_c3f2d9d037dd4624a89f21052f1c73f1",
              "IPY_MODEL_38ab573b51224f89a2cd1d3fbb626141",
              "IPY_MODEL_f91f9b2f24f24583b1f61b64fae30e29"
            ],
            "layout": "IPY_MODEL_b0fc40220bf9430592399012d85da1ce"
          }
        },
        "c3f2d9d037dd4624a89f21052f1c73f1": {
          "model_module": "@jupyter-widgets/controls",
          "model_name": "HTMLModel",
          "model_module_version": "1.5.0",
          "state": {
            "_dom_classes": [],
            "_model_module": "@jupyter-widgets/controls",
            "_model_module_version": "1.5.0",
            "_model_name": "HTMLModel",
            "_view_count": null,
            "_view_module": "@jupyter-widgets/controls",
            "_view_module_version": "1.5.0",
            "_view_name": "HTMLView",
            "description": "",
            "description_tooltip": null,
            "layout": "IPY_MODEL_411fa6c5f3d64061b7618314b36cb6bb",
            "placeholder": "​",
            "style": "IPY_MODEL_c774d4e0f1854372b7774d8fd80684aa",
            "value": "merges.txt: 100%"
          }
        },
        "38ab573b51224f89a2cd1d3fbb626141": {
          "model_module": "@jupyter-widgets/controls",
          "model_name": "FloatProgressModel",
          "model_module_version": "1.5.0",
          "state": {
            "_dom_classes": [],
            "_model_module": "@jupyter-widgets/controls",
            "_model_module_version": "1.5.0",
            "_model_name": "FloatProgressModel",
            "_view_count": null,
            "_view_module": "@jupyter-widgets/controls",
            "_view_module_version": "1.5.0",
            "_view_name": "ProgressView",
            "bar_style": "success",
            "description": "",
            "description_tooltip": null,
            "layout": "IPY_MODEL_46d4762f8698423b9d62612232fe2ae7",
            "max": 456318,
            "min": 0,
            "orientation": "horizontal",
            "style": "IPY_MODEL_f949b4e99b414c929a3239cd73259447",
            "value": 456318
          }
        },
        "f91f9b2f24f24583b1f61b64fae30e29": {
          "model_module": "@jupyter-widgets/controls",
          "model_name": "HTMLModel",
          "model_module_version": "1.5.0",
          "state": {
            "_dom_classes": [],
            "_model_module": "@jupyter-widgets/controls",
            "_model_module_version": "1.5.0",
            "_model_name": "HTMLModel",
            "_view_count": null,
            "_view_module": "@jupyter-widgets/controls",
            "_view_module_version": "1.5.0",
            "_view_name": "HTMLView",
            "description": "",
            "description_tooltip": null,
            "layout": "IPY_MODEL_bdc37b8f187b4a0694010267b53173e6",
            "placeholder": "​",
            "style": "IPY_MODEL_ebb5a6a16dae4f0d8fc88fc8e67d04b0",
            "value": " 456k/456k [00:00&lt;00:00, 1.26MB/s]"
          }
        },
        "b0fc40220bf9430592399012d85da1ce": {
          "model_module": "@jupyter-widgets/base",
          "model_name": "LayoutModel",
          "model_module_version": "1.2.0",
          "state": {
            "_model_module": "@jupyter-widgets/base",
            "_model_module_version": "1.2.0",
            "_model_name": "LayoutModel",
            "_view_count": null,
            "_view_module": "@jupyter-widgets/base",
            "_view_module_version": "1.2.0",
            "_view_name": "LayoutView",
            "align_content": null,
            "align_items": null,
            "align_self": null,
            "border": null,
            "bottom": null,
            "display": null,
            "flex": null,
            "flex_flow": null,
            "grid_area": null,
            "grid_auto_columns": null,
            "grid_auto_flow": null,
            "grid_auto_rows": null,
            "grid_column": null,
            "grid_gap": null,
            "grid_row": null,
            "grid_template_areas": null,
            "grid_template_columns": null,
            "grid_template_rows": null,
            "height": null,
            "justify_content": null,
            "justify_items": null,
            "left": null,
            "margin": null,
            "max_height": null,
            "max_width": null,
            "min_height": null,
            "min_width": null,
            "object_fit": null,
            "object_position": null,
            "order": null,
            "overflow": null,
            "overflow_x": null,
            "overflow_y": null,
            "padding": null,
            "right": null,
            "top": null,
            "visibility": null,
            "width": null
          }
        },
        "411fa6c5f3d64061b7618314b36cb6bb": {
          "model_module": "@jupyter-widgets/base",
          "model_name": "LayoutModel",
          "model_module_version": "1.2.0",
          "state": {
            "_model_module": "@jupyter-widgets/base",
            "_model_module_version": "1.2.0",
            "_model_name": "LayoutModel",
            "_view_count": null,
            "_view_module": "@jupyter-widgets/base",
            "_view_module_version": "1.2.0",
            "_view_name": "LayoutView",
            "align_content": null,
            "align_items": null,
            "align_self": null,
            "border": null,
            "bottom": null,
            "display": null,
            "flex": null,
            "flex_flow": null,
            "grid_area": null,
            "grid_auto_columns": null,
            "grid_auto_flow": null,
            "grid_auto_rows": null,
            "grid_column": null,
            "grid_gap": null,
            "grid_row": null,
            "grid_template_areas": null,
            "grid_template_columns": null,
            "grid_template_rows": null,
            "height": null,
            "justify_content": null,
            "justify_items": null,
            "left": null,
            "margin": null,
            "max_height": null,
            "max_width": null,
            "min_height": null,
            "min_width": null,
            "object_fit": null,
            "object_position": null,
            "order": null,
            "overflow": null,
            "overflow_x": null,
            "overflow_y": null,
            "padding": null,
            "right": null,
            "top": null,
            "visibility": null,
            "width": null
          }
        },
        "c774d4e0f1854372b7774d8fd80684aa": {
          "model_module": "@jupyter-widgets/controls",
          "model_name": "DescriptionStyleModel",
          "model_module_version": "1.5.0",
          "state": {
            "_model_module": "@jupyter-widgets/controls",
            "_model_module_version": "1.5.0",
            "_model_name": "DescriptionStyleModel",
            "_view_count": null,
            "_view_module": "@jupyter-widgets/base",
            "_view_module_version": "1.2.0",
            "_view_name": "StyleView",
            "description_width": ""
          }
        },
        "46d4762f8698423b9d62612232fe2ae7": {
          "model_module": "@jupyter-widgets/base",
          "model_name": "LayoutModel",
          "model_module_version": "1.2.0",
          "state": {
            "_model_module": "@jupyter-widgets/base",
            "_model_module_version": "1.2.0",
            "_model_name": "LayoutModel",
            "_view_count": null,
            "_view_module": "@jupyter-widgets/base",
            "_view_module_version": "1.2.0",
            "_view_name": "LayoutView",
            "align_content": null,
            "align_items": null,
            "align_self": null,
            "border": null,
            "bottom": null,
            "display": null,
            "flex": null,
            "flex_flow": null,
            "grid_area": null,
            "grid_auto_columns": null,
            "grid_auto_flow": null,
            "grid_auto_rows": null,
            "grid_column": null,
            "grid_gap": null,
            "grid_row": null,
            "grid_template_areas": null,
            "grid_template_columns": null,
            "grid_template_rows": null,
            "height": null,
            "justify_content": null,
            "justify_items": null,
            "left": null,
            "margin": null,
            "max_height": null,
            "max_width": null,
            "min_height": null,
            "min_width": null,
            "object_fit": null,
            "object_position": null,
            "order": null,
            "overflow": null,
            "overflow_x": null,
            "overflow_y": null,
            "padding": null,
            "right": null,
            "top": null,
            "visibility": null,
            "width": null
          }
        },
        "f949b4e99b414c929a3239cd73259447": {
          "model_module": "@jupyter-widgets/controls",
          "model_name": "ProgressStyleModel",
          "model_module_version": "1.5.0",
          "state": {
            "_model_module": "@jupyter-widgets/controls",
            "_model_module_version": "1.5.0",
            "_model_name": "ProgressStyleModel",
            "_view_count": null,
            "_view_module": "@jupyter-widgets/base",
            "_view_module_version": "1.2.0",
            "_view_name": "StyleView",
            "bar_color": null,
            "description_width": ""
          }
        },
        "bdc37b8f187b4a0694010267b53173e6": {
          "model_module": "@jupyter-widgets/base",
          "model_name": "LayoutModel",
          "model_module_version": "1.2.0",
          "state": {
            "_model_module": "@jupyter-widgets/base",
            "_model_module_version": "1.2.0",
            "_model_name": "LayoutModel",
            "_view_count": null,
            "_view_module": "@jupyter-widgets/base",
            "_view_module_version": "1.2.0",
            "_view_name": "LayoutView",
            "align_content": null,
            "align_items": null,
            "align_self": null,
            "border": null,
            "bottom": null,
            "display": null,
            "flex": null,
            "flex_flow": null,
            "grid_area": null,
            "grid_auto_columns": null,
            "grid_auto_flow": null,
            "grid_auto_rows": null,
            "grid_column": null,
            "grid_gap": null,
            "grid_row": null,
            "grid_template_areas": null,
            "grid_template_columns": null,
            "grid_template_rows": null,
            "height": null,
            "justify_content": null,
            "justify_items": null,
            "left": null,
            "margin": null,
            "max_height": null,
            "max_width": null,
            "min_height": null,
            "min_width": null,
            "object_fit": null,
            "object_position": null,
            "order": null,
            "overflow": null,
            "overflow_x": null,
            "overflow_y": null,
            "padding": null,
            "right": null,
            "top": null,
            "visibility": null,
            "width": null
          }
        },
        "ebb5a6a16dae4f0d8fc88fc8e67d04b0": {
          "model_module": "@jupyter-widgets/controls",
          "model_name": "DescriptionStyleModel",
          "model_module_version": "1.5.0",
          "state": {
            "_model_module": "@jupyter-widgets/controls",
            "_model_module_version": "1.5.0",
            "_model_name": "DescriptionStyleModel",
            "_view_count": null,
            "_view_module": "@jupyter-widgets/base",
            "_view_module_version": "1.2.0",
            "_view_name": "StyleView",
            "description_width": ""
          }
        },
        "a8db0b7f46894f4ca0fe214d8b57d765": {
          "model_module": "@jupyter-widgets/controls",
          "model_name": "HBoxModel",
          "model_module_version": "1.5.0",
          "state": {
            "_dom_classes": [],
            "_model_module": "@jupyter-widgets/controls",
            "_model_module_version": "1.5.0",
            "_model_name": "HBoxModel",
            "_view_count": null,
            "_view_module": "@jupyter-widgets/controls",
            "_view_module_version": "1.5.0",
            "_view_name": "HBoxView",
            "box_style": "",
            "children": [
              "IPY_MODEL_11988cbac591454db92ce7afdd110996",
              "IPY_MODEL_c485a9068aa14654bf2395facbfe6677",
              "IPY_MODEL_f1d3056cbdfb4850a4fbd8dd90c2e80e"
            ],
            "layout": "IPY_MODEL_7c64a60c3c5d44338435653f70b5404b"
          }
        },
        "11988cbac591454db92ce7afdd110996": {
          "model_module": "@jupyter-widgets/controls",
          "model_name": "HTMLModel",
          "model_module_version": "1.5.0",
          "state": {
            "_dom_classes": [],
            "_model_module": "@jupyter-widgets/controls",
            "_model_module_version": "1.5.0",
            "_model_name": "HTMLModel",
            "_view_count": null,
            "_view_module": "@jupyter-widgets/controls",
            "_view_module_version": "1.5.0",
            "_view_name": "HTMLView",
            "description": "",
            "description_tooltip": null,
            "layout": "IPY_MODEL_c01bc6d3026546549dcce8954e53054c",
            "placeholder": "​",
            "style": "IPY_MODEL_66303c2f74b241ceb335f629214a33b8",
            "value": "tokenizer.json: 100%"
          }
        },
        "c485a9068aa14654bf2395facbfe6677": {
          "model_module": "@jupyter-widgets/controls",
          "model_name": "FloatProgressModel",
          "model_module_version": "1.5.0",
          "state": {
            "_dom_classes": [],
            "_model_module": "@jupyter-widgets/controls",
            "_model_module_version": "1.5.0",
            "_model_name": "FloatProgressModel",
            "_view_count": null,
            "_view_module": "@jupyter-widgets/controls",
            "_view_module_version": "1.5.0",
            "_view_name": "ProgressView",
            "bar_style": "success",
            "description": "",
            "description_tooltip": null,
            "layout": "IPY_MODEL_e34c073e20da4a679e1e534e468e3b27",
            "max": 1355863,
            "min": 0,
            "orientation": "horizontal",
            "style": "IPY_MODEL_d40c217de18e4f8e80cb1c3ca3ea766d",
            "value": 1355863
          }
        },
        "f1d3056cbdfb4850a4fbd8dd90c2e80e": {
          "model_module": "@jupyter-widgets/controls",
          "model_name": "HTMLModel",
          "model_module_version": "1.5.0",
          "state": {
            "_dom_classes": [],
            "_model_module": "@jupyter-widgets/controls",
            "_model_module_version": "1.5.0",
            "_model_name": "HTMLModel",
            "_view_count": null,
            "_view_module": "@jupyter-widgets/controls",
            "_view_module_version": "1.5.0",
            "_view_name": "HTMLView",
            "description": "",
            "description_tooltip": null,
            "layout": "IPY_MODEL_a2e2a517c75746328719d0e592952ccc",
            "placeholder": "​",
            "style": "IPY_MODEL_865bd5ca83cf4902942a390c124b6372",
            "value": " 1.36M/1.36M [00:00&lt;00:00, 7.19MB/s]"
          }
        },
        "7c64a60c3c5d44338435653f70b5404b": {
          "model_module": "@jupyter-widgets/base",
          "model_name": "LayoutModel",
          "model_module_version": "1.2.0",
          "state": {
            "_model_module": "@jupyter-widgets/base",
            "_model_module_version": "1.2.0",
            "_model_name": "LayoutModel",
            "_view_count": null,
            "_view_module": "@jupyter-widgets/base",
            "_view_module_version": "1.2.0",
            "_view_name": "LayoutView",
            "align_content": null,
            "align_items": null,
            "align_self": null,
            "border": null,
            "bottom": null,
            "display": null,
            "flex": null,
            "flex_flow": null,
            "grid_area": null,
            "grid_auto_columns": null,
            "grid_auto_flow": null,
            "grid_auto_rows": null,
            "grid_column": null,
            "grid_gap": null,
            "grid_row": null,
            "grid_template_areas": null,
            "grid_template_columns": null,
            "grid_template_rows": null,
            "height": null,
            "justify_content": null,
            "justify_items": null,
            "left": null,
            "margin": null,
            "max_height": null,
            "max_width": null,
            "min_height": null,
            "min_width": null,
            "object_fit": null,
            "object_position": null,
            "order": null,
            "overflow": null,
            "overflow_x": null,
            "overflow_y": null,
            "padding": null,
            "right": null,
            "top": null,
            "visibility": null,
            "width": null
          }
        },
        "c01bc6d3026546549dcce8954e53054c": {
          "model_module": "@jupyter-widgets/base",
          "model_name": "LayoutModel",
          "model_module_version": "1.2.0",
          "state": {
            "_model_module": "@jupyter-widgets/base",
            "_model_module_version": "1.2.0",
            "_model_name": "LayoutModel",
            "_view_count": null,
            "_view_module": "@jupyter-widgets/base",
            "_view_module_version": "1.2.0",
            "_view_name": "LayoutView",
            "align_content": null,
            "align_items": null,
            "align_self": null,
            "border": null,
            "bottom": null,
            "display": null,
            "flex": null,
            "flex_flow": null,
            "grid_area": null,
            "grid_auto_columns": null,
            "grid_auto_flow": null,
            "grid_auto_rows": null,
            "grid_column": null,
            "grid_gap": null,
            "grid_row": null,
            "grid_template_areas": null,
            "grid_template_columns": null,
            "grid_template_rows": null,
            "height": null,
            "justify_content": null,
            "justify_items": null,
            "left": null,
            "margin": null,
            "max_height": null,
            "max_width": null,
            "min_height": null,
            "min_width": null,
            "object_fit": null,
            "object_position": null,
            "order": null,
            "overflow": null,
            "overflow_x": null,
            "overflow_y": null,
            "padding": null,
            "right": null,
            "top": null,
            "visibility": null,
            "width": null
          }
        },
        "66303c2f74b241ceb335f629214a33b8": {
          "model_module": "@jupyter-widgets/controls",
          "model_name": "DescriptionStyleModel",
          "model_module_version": "1.5.0",
          "state": {
            "_model_module": "@jupyter-widgets/controls",
            "_model_module_version": "1.5.0",
            "_model_name": "DescriptionStyleModel",
            "_view_count": null,
            "_view_module": "@jupyter-widgets/base",
            "_view_module_version": "1.2.0",
            "_view_name": "StyleView",
            "description_width": ""
          }
        },
        "e34c073e20da4a679e1e534e468e3b27": {
          "model_module": "@jupyter-widgets/base",
          "model_name": "LayoutModel",
          "model_module_version": "1.2.0",
          "state": {
            "_model_module": "@jupyter-widgets/base",
            "_model_module_version": "1.2.0",
            "_model_name": "LayoutModel",
            "_view_count": null,
            "_view_module": "@jupyter-widgets/base",
            "_view_module_version": "1.2.0",
            "_view_name": "LayoutView",
            "align_content": null,
            "align_items": null,
            "align_self": null,
            "border": null,
            "bottom": null,
            "display": null,
            "flex": null,
            "flex_flow": null,
            "grid_area": null,
            "grid_auto_columns": null,
            "grid_auto_flow": null,
            "grid_auto_rows": null,
            "grid_column": null,
            "grid_gap": null,
            "grid_row": null,
            "grid_template_areas": null,
            "grid_template_columns": null,
            "grid_template_rows": null,
            "height": null,
            "justify_content": null,
            "justify_items": null,
            "left": null,
            "margin": null,
            "max_height": null,
            "max_width": null,
            "min_height": null,
            "min_width": null,
            "object_fit": null,
            "object_position": null,
            "order": null,
            "overflow": null,
            "overflow_x": null,
            "overflow_y": null,
            "padding": null,
            "right": null,
            "top": null,
            "visibility": null,
            "width": null
          }
        },
        "d40c217de18e4f8e80cb1c3ca3ea766d": {
          "model_module": "@jupyter-widgets/controls",
          "model_name": "ProgressStyleModel",
          "model_module_version": "1.5.0",
          "state": {
            "_model_module": "@jupyter-widgets/controls",
            "_model_module_version": "1.5.0",
            "_model_name": "ProgressStyleModel",
            "_view_count": null,
            "_view_module": "@jupyter-widgets/base",
            "_view_module_version": "1.2.0",
            "_view_name": "StyleView",
            "bar_color": null,
            "description_width": ""
          }
        },
        "a2e2a517c75746328719d0e592952ccc": {
          "model_module": "@jupyter-widgets/base",
          "model_name": "LayoutModel",
          "model_module_version": "1.2.0",
          "state": {
            "_model_module": "@jupyter-widgets/base",
            "_model_module_version": "1.2.0",
            "_model_name": "LayoutModel",
            "_view_count": null,
            "_view_module": "@jupyter-widgets/base",
            "_view_module_version": "1.2.0",
            "_view_name": "LayoutView",
            "align_content": null,
            "align_items": null,
            "align_self": null,
            "border": null,
            "bottom": null,
            "display": null,
            "flex": null,
            "flex_flow": null,
            "grid_area": null,
            "grid_auto_columns": null,
            "grid_auto_flow": null,
            "grid_auto_rows": null,
            "grid_column": null,
            "grid_gap": null,
            "grid_row": null,
            "grid_template_areas": null,
            "grid_template_columns": null,
            "grid_template_rows": null,
            "height": null,
            "justify_content": null,
            "justify_items": null,
            "left": null,
            "margin": null,
            "max_height": null,
            "max_width": null,
            "min_height": null,
            "min_width": null,
            "object_fit": null,
            "object_position": null,
            "order": null,
            "overflow": null,
            "overflow_x": null,
            "overflow_y": null,
            "padding": null,
            "right": null,
            "top": null,
            "visibility": null,
            "width": null
          }
        },
        "865bd5ca83cf4902942a390c124b6372": {
          "model_module": "@jupyter-widgets/controls",
          "model_name": "DescriptionStyleModel",
          "model_module_version": "1.5.0",
          "state": {
            "_model_module": "@jupyter-widgets/controls",
            "_model_module_version": "1.5.0",
            "_model_name": "DescriptionStyleModel",
            "_view_count": null,
            "_view_module": "@jupyter-widgets/base",
            "_view_module_version": "1.2.0",
            "_view_name": "StyleView",
            "description_width": ""
          }
        }
      }
    }
  },
  "cells": [
    {
      "cell_type": "markdown",
      "metadata": {
        "id": "view-in-github",
        "colab_type": "text"
      },
      "source": [
        "<a href=\"https://colab.research.google.com/github/marcoandre1/preparation-TP1/blob/main/Copy_of_Pr%C3%A9paration_TP1.ipynb\" target=\"_parent\"><img src=\"https://colab.research.google.com/assets/colab-badge.svg\" alt=\"Open In Colab\"/></a>"
      ]
    },
    {
      "cell_type": "markdown",
      "source": [
        "# 0️⃣ Mise en contexte"
      ],
      "metadata": {
        "id": "46eiIo5R91qE"
      }
    },
    {
      "cell_type": "markdown",
      "source": [
        "Dans le TP1, vous devez acquérir et tester un modèle préentraîné.\n",
        "\n",
        "Le modèle est _BARThez_ : un modèle de génération de texte **français**. Appropiré pour le _fine-tuning_ de tâches de traductions et de compréhension de textes.\n",
        "\n",
        "Vous serez amené à _fine-tune_ le modèle avec des données collectionnées par une entreprise afin de spécifier le modèle davantage. Le but est de faire de _BARThez_ un **classifieur de tickets d'assistance TI** via _fine-tuning_."
      ],
      "metadata": {
        "id": "JAABvl97dCfn"
      }
    },
    {
      "cell_type": "markdown",
      "source": [
        "# 1️⃣ Compréhension du modèle"
      ],
      "metadata": {
        "id": "x4TeJ1_bRIxv"
      }
    },
    {
      "cell_type": "markdown",
      "source": [
        "## _BARThez_\n",
        "_BARThez_ est un modèle basé sur _BART_ de _FAIR_ (Face AI Research). _BART_ est un modèle qui génère du texte à partir de texte. C'est un modèle _séquence-à-séquence_. Son but **n'est que de reconstruire la séquence intrant en apprenant les relations entre les mots dans un texte**.\n",
        "\n",
        "La distiction principale entre _BARThez_ et _BART_ est que _BARThez_ a été entraîné sur 66 Go de textes francophones. Il n'a pas été entraîné pour bien réaliser une tâche spécifique ; il est prêt à se faire entraîner davantage pour une tâche. En d'autres mots, le modèle a déjà « appris » les relations entre les mots français. La partie longue et coûteuse est faite — il ne reste qu'à peaufiner.\n",
        "\n",
        "Le modèle est implémenté avec le framework _PyTorch_. Celui-ci est un des modules les plus populaires pour le développement de réseau de neurones.\n",
        "\n",
        "[Lire le papier publié pour _BARThez_](https://arxiv.org/abs/2010.12321)"
      ],
      "metadata": {
        "id": "rZXtBp7GRQLS"
      }
    },
    {
      "cell_type": "markdown",
      "source": [
        "## _Tokenizer_\n",
        "\n",
        "Le modèle s'attend à recevoir une _séquence_ comme intrant. Il faut une logique qui exprime les éléments (_token_) d'une séquence.\n",
        "\n",
        "Par exemple, la phrase « Je suis au campus de l'Université de Sherbrooke » peut être divisée de plusieurs manières. Elle peut être divisée par caractères, par mots, ou par règles spéciales. Par exemple, est-ce que «'l'Université » est 1 ou 2 éléments ?\n",
        "\n",
        "Un _tokenizer_ est un objet contenant la logique pour générer une séquence d'éléments pour un modèle. Le _tokenizer_ de _BARThez_ est différent de celui de pour _BART_ : il est conçu pour la langue française.\n",
        "\n",
        "Ces _token_ seront après envoyé au modèle. Les modèles comme _BART_ s'occupe de transformer les tokens textuels en vecteurs de nombres pour ensuite l'envoyer au modèle. Comme vu en classe, la couche d'intrants d'un réseau prend un vecteur de nombres.\n",
        "\n",
        "La transformations de _token_ à vecteur se fait par un _embedding_. Ce mécanisme est en soi obtenu via un entraînement IA. Ce sujet est à l'extérieur de la portée du cours."
      ],
      "metadata": {
        "id": "kQ706viAXUi8"
      }
    },
    {
      "cell_type": "markdown",
      "source": [
        "## L'architecture _transformer_\n",
        "\n",
        "[Voir image de l'architecture de base d'un _transformer_](https://machinelearningmastery.com/wp-content/uploads/2021/08/attention_research_1.png)\n",
        "\n",
        "En 2017, le papier scientifique _Attention Is All You Need_\" a changer le monde de l'IA. Il a proposé le modèle _transformer_ pour remplacer les RNN et CNN dans les tâches des séquences de données en intrants/extrants.\n",
        "\n",
        "Un _transformer_ a un encodeur et un décodeur. L'encodeur _BERT_ (Bidirectional Encoder Representations from Transformers) et le décodeur _GPT_ (Generative Pre-trained Transformer).\n",
        "\n",
        "Pendant le préentraînement, l'encodeur apprend à créer une bonne représentation vectorielle de chaque _token_. Il trouve les relations statistiques entre les mots pour former des concepts. Le décodeur génère le texte le plus approprié selon les _token_ encodés. Le décodeur est préentraîné en même temps que l'encodeur.\n",
        "\n",
        "Comme _BART_, l'architecture de _BERThez_ est un _transformer_. Cette architecture est maintenant le standard dans les tâches de traitement de langage naturel (_NLP_).\n",
        "\n",
        "Un _transformer_ est une architecture de modèle IA sophistiquée. Celui de _BARThez_ consiste d'environ 230 sous-réseaux de neurones. Ces réseaux sont organisés en modules.\n",
        "\n",
        "_BARThez_ a 165 millions de paramètres. Il est question de _deep learning_.\n",
        "\n",
        "**Pour le _fine-tuning_, nous voulons modifier _BARThez_ pour aller d'un modèle séquence-à-séquence vers un modèle de classification.** Nous pourrons mettre de côté le décodeur et exploiter l'encodeur déjà optimisé.\n"
      ],
      "metadata": {
        "id": "wjNLYpeSx1X0"
      }
    },
    {
      "cell_type": "markdown",
      "source": [
        "# 2️⃣ Acquisition du modèle préentraîné"
      ],
      "metadata": {
        "id": "fzeDf0Sc-Faf"
      }
    },
    {
      "cell_type": "markdown",
      "source": [
        "_HuggingFace_ a développé un API _Python_ pour obtenir des modèles disponibles sur leur site.\n",
        "\n",
        "Le module `transformers` nous permet de facilement aquérir le modèle.\n",
        "\n",
        "En premier lieu, naviguez à la page d'accueuil du modèle sur _HuggingFace_ : https://huggingface.co/moussaKam/barthez.\n",
        "\n",
        "Souvent, le site a un bouton pour montrer le code nécessaire pour charger le modèle avec le module `transformers`.\n",
        "\n",
        "![](https://i.ibb.co/GQ2ckHr8/transformer.png)"
      ],
      "metadata": {
        "id": "swGWbNagUrI5"
      }
    },
    {
      "cell_type": "markdown",
      "source": [
        "Le code suivant fait l'importation des sous-modules `AutoTokenizer` et `AutoModelForSeq2SeqLM` de `transformers`. Il est souvent préférable d'importer que le nécessaire afin d'éviter d'importer le tout.\n",
        "\n",
        "Le code créé ensuite une variable `tokenizer` et `model`.\n",
        "\n",
        "Le _tokenizer_ est celui pour _BARThez_ et le modèle est instancié"
      ],
      "metadata": {
        "id": "H69_QF2yWSKV"
      }
    },
    {
      "cell_type": "code",
      "source": [
        "from transformers import AutoTokenizer, AutoModelForSeq2SeqLM\n",
        "\n",
        "tokenizer = AutoTokenizer.from_pretrained(\"moussaKam/barthez\")\n",
        "model = AutoModelForSeq2SeqLM.from_pretrained(\"moussaKam/barthez\")"
      ],
      "metadata": {
        "id": "CXOFI-rMV-xx"
      },
      "execution_count": null,
      "outputs": []
    },
    {
      "cell_type": "markdown",
      "source": [
        "Testez le _tokenizer_ :"
      ],
      "metadata": {
        "id": "RKuCYNfEcshW"
      }
    },
    {
      "cell_type": "code",
      "source": [
        "prompt = \"Je suis au campus de l'Université de Sherbrooke\"\n",
        "tokens = tokenizer.tokenize(prompt)\n",
        "print(tokens)"
      ],
      "metadata": {
        "colab": {
          "base_uri": "https://localhost:8080/",
          "height": 181,
          "referenced_widgets": [
            "17f687b4ca5a4ecfbb004b8bddd8a990",
            "03d39572f0984757a57f101be648abb2",
            "d1358afa68ee4844a2ce1807e643d37a",
            "0c4111e78f604dd494ead8225e9c9723",
            "8be7b1e1eded45e5b168e77915abfd78",
            "2d3962599a634af8bf9307f9b9f14a12",
            "ddac6189e8764baa9bcc8f68ef929edc",
            "38dc30a55b524d5eb4df062c75d590a3",
            "2bcceefb7d5d4cfaa191336f84a6a47c",
            "8feeaf66d3554b0385a11d07f1cbd919",
            "704f58af21b84d77aad11520d468dc00",
            "8feb232766094aec84f9647ab62a9ebb",
            "a2d49d5756d84730ac6358997e46ecc5",
            "171f36bcef22490b9b36c49ca98f457f",
            "a5f5dcb8596e4fe6a9c61574fa77a7d5",
            "3dd5ab3373934fa6b5c40ec9d706c2f1",
            "bf6d5fedd0bf4171b6ce01baa62f3c3c",
            "a800eb8ac8ec40539831e407e402fbb7",
            "db02d56de6584a7db342f5f7901e6820",
            "12683416687c4cf89669466b4c9a0024",
            "7b7ee1dfb72d4709bd9d08b373e7c617",
            "be08e60b7bde4affb21c309a0fb7fd42",
            "978fb3e7a8a94f09a4753f4aa714196e",
            "c3f2d9d037dd4624a89f21052f1c73f1",
            "38ab573b51224f89a2cd1d3fbb626141",
            "f91f9b2f24f24583b1f61b64fae30e29",
            "b0fc40220bf9430592399012d85da1ce",
            "411fa6c5f3d64061b7618314b36cb6bb",
            "c774d4e0f1854372b7774d8fd80684aa",
            "46d4762f8698423b9d62612232fe2ae7",
            "f949b4e99b414c929a3239cd73259447",
            "bdc37b8f187b4a0694010267b53173e6",
            "ebb5a6a16dae4f0d8fc88fc8e67d04b0",
            "a8db0b7f46894f4ca0fe214d8b57d765",
            "11988cbac591454db92ce7afdd110996",
            "c485a9068aa14654bf2395facbfe6677",
            "f1d3056cbdfb4850a4fbd8dd90c2e80e",
            "7c64a60c3c5d44338435653f70b5404b",
            "c01bc6d3026546549dcce8954e53054c",
            "66303c2f74b241ceb335f629214a33b8",
            "e34c073e20da4a679e1e534e468e3b27",
            "d40c217de18e4f8e80cb1c3ca3ea766d",
            "a2e2a517c75746328719d0e592952ccc",
            "865bd5ca83cf4902942a390c124b6372"
          ]
        },
        "id": "U8MSovECcy28",
        "outputId": "ecacffdf-e00d-490f-dff6-e3a256207730"
      },
      "execution_count": null,
      "outputs": [
        {
          "output_type": "stream",
          "name": "stdout",
          "text": [
            "['▁Je', '▁suis', '▁au', '▁campus', '▁de', '▁l', \"'\", 'Université', '▁de', '▁Sherbrooke']\n"
          ]
        },
        {
          "output_type": "display_data",
          "data": {
            "text/plain": [
              "config.json:   0%|          | 0.00/1.58k [00:00<?, ?B/s]"
            ],
            "application/vnd.jupyter.widget-view+json": {
              "version_major": 2,
              "version_minor": 0,
              "model_id": "17f687b4ca5a4ecfbb004b8bddd8a990"
            }
          },
          "metadata": {}
        },
        {
          "output_type": "display_data",
          "data": {
            "text/plain": [
              "vocab.json:   0%|          | 0.00/899k [00:00<?, ?B/s]"
            ],
            "application/vnd.jupyter.widget-view+json": {
              "version_major": 2,
              "version_minor": 0,
              "model_id": "8feb232766094aec84f9647ab62a9ebb"
            }
          },
          "metadata": {}
        },
        {
          "output_type": "display_data",
          "data": {
            "text/plain": [
              "merges.txt:   0%|          | 0.00/456k [00:00<?, ?B/s]"
            ],
            "application/vnd.jupyter.widget-view+json": {
              "version_major": 2,
              "version_minor": 0,
              "model_id": "978fb3e7a8a94f09a4753f4aa714196e"
            }
          },
          "metadata": {}
        },
        {
          "output_type": "display_data",
          "data": {
            "text/plain": [
              "tokenizer.json:   0%|          | 0.00/1.36M [00:00<?, ?B/s]"
            ],
            "application/vnd.jupyter.widget-view+json": {
              "version_major": 2,
              "version_minor": 0,
              "model_id": "a8db0b7f46894f4ca0fe214d8b57d765"
            }
          },
          "metadata": {}
        },
        {
          "output_type": "stream",
          "name": "stdout",
          "text": [
            "['Je', 'Ġsu', 'is', 'Ġau', 'Ġcampus', 'Ġde', 'Ġl', \"'\", 'Un', 'ivers', 'itÃ©', 'Ġde', 'ĠSher', 'bro', 'oke']\n"
          ]
        }
      ]
    },
    {
      "cell_type": "markdown",
      "source": [
        "Comparez avec le _tokenizer_ de _BART_ :"
      ],
      "metadata": {
        "id": "gIMS_CxzeAVs"
      }
    },
    {
      "cell_type": "code",
      "source": [
        "tokenizer_BART = AutoTokenizer.from_pretrained(\"facebook/bart-large-cnn\")\n",
        "tokens_BART = tokenizer_BART.tokenize(prompt)\n",
        "print(tokens_BART)"
      ],
      "metadata": {
        "colab": {
          "base_uri": "https://localhost:8080/"
        },
        "id": "l6q9QzoyeEIA",
        "outputId": "fa4a4e8c-771a-4ae4-f57e-d895d6727e6e"
      },
      "execution_count": null,
      "outputs": [
        {
          "output_type": "stream",
          "name": "stdout",
          "text": [
            "['Je', 'Ġsu', 'is', 'Ġau', 'Ġcampus', 'Ġde', 'Ġl', \"'\", 'Un', 'ivers', 'itÃ©', 'Ġde', 'ĠSher', 'bro', 'oke']\n"
          ]
        }
      ]
    },
    {
      "cell_type": "markdown",
      "source": [
        "# 3️⃣ Test du modèle préentraîné"
      ],
      "metadata": {
        "id": "Ebml6ATf_DHV"
      }
    },
    {
      "cell_type": "markdown",
      "source": [
        "Les _token_ générés ci-dessus ne sont pas formattés correctement pour le modèle _PyTorch_.\n",
        "\n",
        "Il faut que le _tokenizer_ nous retourne un _tensor PyTorch_ contenant des nombres représentant nos _token_.\n",
        "\n",
        "Cette représentation est donnée au modèle qui les transforment ensuite en vecteur de nombre via son bloc d'_input embedding_. Au final, le modèle nous retourne également un _tensor PyTorch_. Celui-ci doit être décodé pour obtenir le texte résultant.\n",
        "\n",
        "Notez que la sortie du modèle n'est pas très utile. Nous ne l'avons pas encore _fine-tune_ avec une tâche."
      ],
      "metadata": {
        "id": "qAS0QfR2i4fU"
      }
    },
    {
      "cell_type": "code",
      "source": [
        "tokens = tokenizer(\"Je suis au campus de l'Université de Sherbrooke\", return_tensors=\"pt\")\n",
        "output = model.generate(**tokens)\n",
        "print(output)\n",
        "\n",
        "decoded_output = tokenizer.decode(output[0], skip_special_tokens=True)\n",
        "print(decoded_output)"
      ],
      "metadata": {
        "colab": {
          "base_uri": "https://localhost:8080/"
        },
        "id": "pf_1TjvGhIfy",
        "outputId": "700490c9-73df-4518-ec4b-7ce20706cdb9"
      },
      "execution_count": null,
      "outputs": [
        {
          "output_type": "stream",
          "name": "stdout",
          "text": [
            "tensor([[    2,     0,   382,   849,    63, 17701,    10,     6, 49928,  4945,\n",
            "            10,  3573, 49922,     2]])\n",
            "Je suis au campus de l'Université de Montréal.\n"
          ]
        }
      ]
    },
    {
      "cell_type": "markdown",
      "source": [
        "# 4️⃣ Acquisition du jeux de données utilisé pour l'entraînement du modèle"
      ],
      "metadata": {
        "id": "XssNE2np-8wj"
      }
    },
    {
      "cell_type": "markdown",
      "source": [
        "**Section à venir**"
      ],
      "metadata": {
        "id": "LCM_BY3e3-0j"
      }
    },
    {
      "cell_type": "markdown",
      "source": [
        "# 5️⃣ Plateforme _Weights & Biases_\n",
        "_W&B_ est un outil commun pour le suivi du développement de modèles. Il permet notamment une API simple pour entraîner des modèles et envoyer les statistiques d'entraînement à un projet _W&B_. Ces stats peuvent être visualisées et partagées au sein d'une équipe.\n",
        "\n",
        "1.   Créez vous un compte chez https://wandb.ai/\n",
        "2.   Logger vous dans votre compte _W&B_ dans la session qui exécutera votre code d'entraînement. Dans _Colab_, vous pouvez appeler du _bash_ directement dans une cellule de code. Préfacez votre code _bash_ avec `!`.\n",
        "3. Entrez votre code API. Trouvez le ici : https://wandb.ai/authorize\n",
        "4.   Importez le module _Python `wandb`. Vous pouvez aussi vous logger dans _W&B_ avec l'API en appelant `wandb.login()`.\n",
        "4.   Utilisez l'API et observer les résultats d'entraînements sur le site.\n",
        "\n",
        "**Essayez la démo ici : https://colab.research.google.com/github/wandb/examples/blob/master/colabs/intro/Intro_to_Weights_%26_Biases.ipynb**"
      ],
      "metadata": {
        "id": "FXiHUTLz2eAx"
      }
    },
    {
      "cell_type": "code",
      "source": [
        "!wandb login"
      ],
      "metadata": {
        "colab": {
          "base_uri": "https://localhost:8080/"
        },
        "id": "CjrRfymh40-D",
        "outputId": "eda07dd8-b804-4d2f-aef8-0ddbdcd51826"
      },
      "execution_count": null,
      "outputs": [
        {
          "output_type": "stream",
          "name": "stdout",
          "text": [
            "\u001b[34m\u001b[1mwandb\u001b[0m: Currently logged in as: \u001b[33mrosskay\u001b[0m (\u001b[33mINF717\u001b[0m) to \u001b[32mhttps://api.wandb.ai\u001b[0m. Use \u001b[1m`wandb login --relogin`\u001b[0m to force relogin\n"
          ]
        }
      ]
    }
  ]
}